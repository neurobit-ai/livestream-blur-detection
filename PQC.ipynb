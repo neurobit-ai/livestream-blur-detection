{
  "cells": [
    {
      "cell_type": "markdown",
      "metadata": {
        "colab_type": "text",
        "id": "view-in-github"
      },
      "source": [
        "<a href=\"https://colab.research.google.com/github/neurobit-ai/livestream-blur-detection/blob/main/PQC.ipynb\" target=\"_parent\"><img src=\"https://colab.research.google.com/assets/colab-badge.svg\" alt=\"Open In Colab\"/></a>"
      ]
    },
    {
      "cell_type": "markdown",
      "metadata": {
        "id": "SuInMNVDzCDB"
      },
      "source": [
        "# 掛載雲端硬碟"
      ]
    },
    {
      "cell_type": "code",
      "execution_count": null,
      "metadata": {
        "id": "5ta52zC9WauU"
      },
      "outputs": [],
      "source": [
        "from google.colab import drive\n",
        "drive.mount('/content/gdrive')\n",
        "\n",
        "!git clone https://github.com/neurobit-ai/livestream-blur-detection --quiet\n",
        "%cd livestream-blur-detection"
      ]
    },
    {
      "cell_type": "markdown",
      "metadata": {
        "id": "4RnoxTQEzkjS"
      },
      "source": [
        "# 主程式"
      ]
    },
    {
      "cell_type": "code",
      "execution_count": null,
      "metadata": {
        "cellView": "form",
        "id": "puHoN1e3HATg"
      },
      "outputs": [],
      "source": [
        "檢測人員 = \"\\u4F0A\\u9686\\u99AC\" #@param {type:\"string\"}\n",
        "電腦設備 = \"TSM2330\" #@param {type:\"string\"}\n",
        "檢測單位 = \"amedifact\" #@param {type:\"string\"}\n",
        "\n",
        "檢驗門檻 = 160 #@param {type:\"integer\"}\n",
        "\n",
        "產品型號 = \"NS011\" #@param {type:\"string\"}\n",
        "產品序號 = \"220201\" #@param {type:\"string\"}\n",
        "檢測秒數 = 15 #@param {type:\"integer\"}\n",
        "#@markdown ⚠️ 秒數設為 0 可預覽串流影像，點擊串流影像可結束預覽。\n",
        "\n",
        "output_folder = f'/content/gdrive/MyDrive/{檢測單位}/PQC/{電腦設備}/{產品型號}/{產品序號}'\n",
        "import os\n",
        "if not os.path.exists(output_folder):\n",
        "    os.makedirs(output_folder)\n",
        "\n",
        "from datetime import datetime, timezone, timedelta\n",
        "tzone = timezone(timedelta(hours=8))\n",
        "start = now = datetime.now(tz=tzone)\n",
        "\n",
        "import csv\n",
        "csvfile = open(f'{output_folder}/{now}'[:-9]+'.csv', 'w', newline='')\n",
        "writer = csv.writer(csvfile, delimiter=',')\n",
        "writer.writerow(['檢測人員', 檢測人員, '電腦設備', 電腦設備])\n",
        "writer.writerow(['檢測秒數', 檢測秒數, '檢驗門檻', 檢驗門檻])\n",
        "writer.writerow(['檢測單位', 檢測單位])\n",
        "writer.writerow(['產品型號', 產品型號, '產品序號', 產品序號])\n",
        "writer.writerow(['時間戳', '檢測值', '檢測結果', '照片路徑'])\n",
        "\n",
        "from detection import estimate_blur\n",
        "import numpy as np\n",
        "import cv2\n",
        "\n",
        "import colab_webcam\n",
        "from colab_webcam import video_stream, video_frame, js_to_image, overlap_to_bytes\n",
        "# 啟動網路攝影機開始接收串流影像\n",
        "video_stream()\n",
        "overlap_img = ''\n",
        "while 檢測秒數 == 0 or now - start < timedelta(seconds=檢測秒數):\n",
        "    now = datetime.now(tz=tzone)\n",
        "    # 從網路攝影機取得串流影像目前影格\n",
        "    js_reply = video_frame(f' {產品型號}影像串流中', overlap_img)\n",
        "\n",
        "    # 若無法取得影格則結束循環\n",
        "    if not js_reply:\n",
        "        break\n",
        "\n",
        "    # 將回傳的JavaScript影像物件轉成 OpenCV BGR 格式\n",
        "    img = js_to_image(js_reply[\"img\"])\n",
        "    H, W, _ = img.shape\n",
        "    cv2.imwrite(f'{output_folder}/{now}'[:-9]+'.jpg', img)\n",
        "\n",
        "    # 呼叫自定義影像即時處理函式\n",
        "    blur_map, score, blurry = estimate_blur(img, 檢驗門檻)\n",
        "    color = (255, 0, 0) if blurry else (0, 255, 0)\n",
        "    bgra = np.zeros([H, W, 4], dtype=np.uint8)\n",
        "    cv2.rectangle(bgra, (1, 1), (W-2, H-2), color, 2)\n",
        "    cv2.putText(bgra, f'{now}'[:-9], (2, 20), cv2.FONT_HERSHEY_SIMPLEX, 0.5, (255, 255, 255), 2)\n",
        "    cv2.putText(bgra, f'{score:.0f}', (W-40, 20), cv2.FONT_HERSHEY_SIMPLEX, 0.5, color, 2)\n",
        "    bgra[:,:,3] = (bgra.max(axis = 2) > 0 ).astype(int) * 255\n",
        "\n",
        "    # log in csv\n",
        "    writer.writerow([f'{now}'[:-9], f'{score:.0f}', 'Fail' if blurry else 'Pass', f'{output_folder}/{now}'[23:-9]+'.jpg'])\n",
        "\n",
        "    # 將覆疊影像轉換成 base64 格式\n",
        "    overlap_bytes = overlap_to_bytes(bgra)\n",
        "\n",
        "    # 更新覆疊影像到下一個影格\n",
        "    overlap_img = overlap_bytes\n",
        "\n",
        "csvfile.close()\n",
        "\n",
        "import pandas as pd\n",
        "\n",
        "df = pd.read_csv(csvpath, skiprows = 4)\n",
        "score_mean = df['檢測值'].mean()\n",
        "verdict = 'Fail' if blurry else 'Pass'\n",
        "print(f'{產品型號}{產品序號} 在{檢測秒數}秒內平均檢測值 = {round(score_mean)}>{檢驗門檻}, {verdict}')\n",
        "\n",
        "from IPython.display import Javascript\n",
        "Javascript('removeDom();')"
      ]
    }
  ],
  "metadata": {
    "colab": {
      "authorship_tag": "ABX9TyPuWXVSNESzHmqd68xQbce9",
      "collapsed_sections": [
        "SuInMNVDzCDB"
      ],
      "include_colab_link": true,
      "provenance": []
    },
    "kernelspec": {
      "display_name": "Python 3",
      "name": "python3"
    },
    "language_info": {
      "name": "python"
    }
  },
  "nbformat": 4,
  "nbformat_minor": 0
}
